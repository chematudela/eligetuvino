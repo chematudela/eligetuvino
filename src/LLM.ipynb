{
 "cells": [
  {
   "cell_type": "code",
   "execution_count": 7,
   "metadata": {},
   "outputs": [
    {
     "name": "stdout",
     "output_type": "stream",
     "text": [
      "API Key cargada correctamente\n"
     ]
    }
   ],
   "source": [
    "from dotenv import load_dotenv\n",
    "import os\n",
    "\n",
    "# Cargar las variables de entorno desde el archivo .env\n",
    "load_dotenv()\n",
    "\n",
    "# Acceder a la clave de API\n",
    "google_api_key = os.getenv('GOOGLE_API_KEY')\n",
    "\n",
    "if google_api_key:\n",
    "    print(\"API Key cargada correctamente\")\n",
    "else:\n",
    "    print(\"No se pudo cargar la API Key.\")"
   ]
  },
  {
   "cell_type": "code",
   "execution_count": 18,
   "metadata": {},
   "outputs": [],
   "source": [
    "import google.generativeai as genai\n",
    "import os\n",
    "\n",
    "genai.configure(api_key=os.getenv('GOOGLE_API_KEY'))\n",
    "\n",
    "model = genai.GenerativeModel('gemini-1.5-pro')"
   ]
  },
  {
   "cell_type": "code",
   "execution_count": 14,
   "metadata": {},
   "outputs": [],
   "source": [
    "tabla_ = [{\"País\":\"España\",\"Región\":\"Rioja\",\"Bodega\":\"Arabate\",\"Uva\":\"garnacha\",\"Contenido de alcohol\":13,\"Maridajes\":\"Ternera,cordero\",\"Ligero/Poderoso\":7.0,\"Suave/Tánico\":6.5,\"Seco/Dulce\":1.8,\"Débil/Ácido\":6.0,\"Taste_note_1\":\"Tabaco\",\"Taste_note_2\":\"Ciruela\"}]"
   ]
  },
  {
   "cell_type": "code",
   "execution_count": 12,
   "metadata": {},
   "outputs": [],
   "source": [
    "texto_ = \"En este sentido, el supermercado ofrece la mejor relación calidad-precio, y uno de los productos más recomendados es el vino tinto Merlot Mar de Uvas, embotellado por la bodega Juan Ramón Lozano de Villarobledo. Este vino, elaborado con uvas merlot, se distingue por su sabor intenso y afrutado, con un cuerpo notable y una alta presencia de taninos. Se presenta en una botella opaca de 750 mililitros, adornada con la etiqueta característica de Mar de Uvas, que resalta su variedad y calidad. Según los usuarios del blog especializado Vivino, este Merlot denota poco cuerpo en copa, presentando un atractivo color rubí. Es aromático, con una sutil percepción de pimienta y una moderada presencia de alcohol. Con una valoración media de 3.7 estrellas en más de 2,900 reseñas, cumple con los parámetros de un buen vino en términos de acidez y alcohol, esperados en un merlot\""
   ]
  },
  {
   "cell_type": "code",
   "execution_count": 19,
   "metadata": {},
   "outputs": [
    {
     "ename": "AttributeError",
     "evalue": "module 'google.generativeai' has no attribute 'generate_text'",
     "output_type": "error",
     "traceback": [
      "\u001b[0;31m---------------------------------------------------------------------------\u001b[0m",
      "\u001b[0;31mAttributeError\u001b[0m                            Traceback (most recent call last)",
      "Cell \u001b[0;32mIn[19], line 9\u001b[0m\n\u001b[1;32m      1\u001b[0m prompt \u001b[38;5;241m=\u001b[39m \u001b[38;5;124mf\u001b[39m\u001b[38;5;124m\"\"\"\u001b[39m\n\u001b[1;32m      2\u001b[0m \u001b[38;5;124mAquí está una tabla de productos:\u001b[39m\n\u001b[1;32m      3\u001b[0m \n\u001b[0;32m   (...)\u001b[0m\n\u001b[1;32m      6\u001b[0m \u001b[38;5;124mBasado en el texto: \u001b[39m\u001b[38;5;124m\"\u001b[39m\u001b[38;5;132;01m{\u001b[39;00mtexto_\u001b[38;5;132;01m}\u001b[39;00m\u001b[38;5;124m\"\u001b[39m\u001b[38;5;124m, agrega una nueva fila a la tabla con los datos correspondientes.\u001b[39m\n\u001b[1;32m      7\u001b[0m \u001b[38;5;124m\"\"\"\u001b[39m\n\u001b[0;32m----> 9\u001b[0m response \u001b[38;5;241m=\u001b[39m \u001b[43mgenai\u001b[49m\u001b[38;5;241;43m.\u001b[39;49m\u001b[43mgenerate_text\u001b[49m(\n\u001b[1;32m     10\u001b[0m     model\u001b[38;5;241m=\u001b[39m\u001b[38;5;124m\"\u001b[39m\u001b[38;5;124mgemini-1.5-pro\u001b[39m\u001b[38;5;124m\"\u001b[39m,  \u001b[38;5;66;03m# o el modelo que estés usando\u001b[39;00m\n\u001b[1;32m     11\u001b[0m     prompt\u001b[38;5;241m=\u001b[39mprompt,\n\u001b[1;32m     12\u001b[0m     temperature\u001b[38;5;241m=\u001b[39m\u001b[38;5;241m0.7\u001b[39m,\n\u001b[1;32m     13\u001b[0m     max_tokens\u001b[38;5;241m=\u001b[39m\u001b[38;5;241m150\u001b[39m\n\u001b[1;32m     14\u001b[0m )\n\u001b[1;32m     16\u001b[0m \u001b[38;5;66;03m# Imprimir la respuesta generada por la API\u001b[39;00m\n\u001b[1;32m     17\u001b[0m generated_row \u001b[38;5;241m=\u001b[39m response[\u001b[38;5;124m'\u001b[39m\u001b[38;5;124mtext\u001b[39m\u001b[38;5;124m'\u001b[39m]\n",
      "\u001b[0;31mAttributeError\u001b[0m: module 'google.generativeai' has no attribute 'generate_text'"
     ]
    }
   ],
   "source": [
    "prompt = f\"\"\"\n",
    "Aquí está una tabla de productos:\n",
    "\n",
    "{tabla_}\n",
    "\n",
    "Basado en el texto: \"{texto_}\", agrega una nueva fila a la tabla con los datos correspondientes.\n",
    "\"\"\"\n",
    "\n",
    "response = genai.generate_text(\n",
    "    model=\"gemini-1.5-pro\",  # o el modelo que estés usando\n",
    "    prompt=prompt,\n",
    "    temperature=0.7,\n",
    "    max_tokens=150\n",
    ")\n",
    "\n",
    "# Imprimir la respuesta generada por la API\n",
    "generated_row = response['text']\n",
    "print(\"Fila generada:\", generated_row)"
   ]
  }
 ],
 "metadata": {
  "kernelspec": {
   "display_name": ".venv",
   "language": "python",
   "name": "python3"
  },
  "language_info": {
   "codemirror_mode": {
    "name": "ipython",
    "version": 3
   },
   "file_extension": ".py",
   "mimetype": "text/x-python",
   "name": "python",
   "nbconvert_exporter": "python",
   "pygments_lexer": "ipython3",
   "version": "3.13.1"
  }
 },
 "nbformat": 4,
 "nbformat_minor": 2
}
