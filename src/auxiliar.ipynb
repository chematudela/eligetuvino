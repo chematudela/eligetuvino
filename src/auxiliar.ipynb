{
 "cells": [
  {
   "cell_type": "code",
   "execution_count": 3,
   "metadata": {},
   "outputs": [
    {
     "name": "stdout",
     "output_type": "stream",
     "text": [
      "Movido: /Users/josetudela/Projects/vinos_grupo2/Proyecto_grupo2_vinos/src/Vinos blancos de 70 a 100_1.csv → /Users/josetudela/Projects/vinos_grupo2/Proyecto_grupo2_vinos/src/Vinos blancos de 70 a 100/\n",
      "Movido: /Users/josetudela/Projects/vinos_grupo2/Proyecto_grupo2_vinos/src/Vinos blancos de 70 a 100_2.csv → /Users/josetudela/Projects/vinos_grupo2/Proyecto_grupo2_vinos/src/Vinos blancos de 70 a 100/\n",
      "Movido: /Users/josetudela/Projects/vinos_grupo2/Proyecto_grupo2_vinos/src/Vinos blancos de 70 a 100_3.csv → /Users/josetudela/Projects/vinos_grupo2/Proyecto_grupo2_vinos/src/Vinos blancos de 70 a 100/\n",
      "Movido: /Users/josetudela/Projects/vinos_grupo2/Proyecto_grupo2_vinos/src/Vinos blancos de 70 a 100_4.csv → /Users/josetudela/Projects/vinos_grupo2/Proyecto_grupo2_vinos/src/Vinos blancos de 70 a 100/\n",
      "Movido: /Users/josetudela/Projects/vinos_grupo2/Proyecto_grupo2_vinos/src/Vinos blancos de 70 a 100_5.csv → /Users/josetudela/Projects/vinos_grupo2/Proyecto_grupo2_vinos/src/Vinos blancos de 70 a 100/\n",
      "Movido: /Users/josetudela/Projects/vinos_grupo2/Proyecto_grupo2_vinos/src/Vinos blancos de 70 a 100_6.csv → /Users/josetudela/Projects/vinos_grupo2/Proyecto_grupo2_vinos/src/Vinos blancos de 70 a 100/\n",
      "Movido: /Users/josetudela/Projects/vinos_grupo2/Proyecto_grupo2_vinos/src/Vinos blancos de 70 a 100_7.csv → /Users/josetudela/Projects/vinos_grupo2/Proyecto_grupo2_vinos/src/Vinos blancos de 70 a 100/\n",
      "Movido: /Users/josetudela/Projects/vinos_grupo2/Proyecto_grupo2_vinos/src/Vinos blancos de 70 a 100_8.csv → /Users/josetudela/Projects/vinos_grupo2/Proyecto_grupo2_vinos/src/Vinos blancos de 70 a 100/\n",
      "Movido: /Users/josetudela/Projects/vinos_grupo2/Proyecto_grupo2_vinos/src/Vinos blancos de 70 a 100_9.csv → /Users/josetudela/Projects/vinos_grupo2/Proyecto_grupo2_vinos/src/Vinos blancos de 70 a 100/\n",
      "Movido: /Users/josetudela/Projects/vinos_grupo2/Proyecto_grupo2_vinos/src/Vinos blancos de 70 a 100_10.csv → /Users/josetudela/Projects/vinos_grupo2/Proyecto_grupo2_vinos/src/Vinos blancos de 70 a 100/\n",
      "✅ Proceso completado.\n"
     ]
    }
   ],
   "source": [
    "# mover archivos a carpeta\n",
    "\n",
    "import os\n",
    "import shutil\n",
    "\n",
    "# Carpeta de destino\n",
    "dest_folder = \"/Users/josetudela/Projects/vinos_grupo2/Proyecto_grupo2_vinos/src/Vinos blancos de 70 a 100\"\n",
    "\n",
    "# Crear la carpeta si no existe\n",
    "os.makedirs(dest_folder, exist_ok=True)\n",
    "\n",
    "\n",
    "# Mover archivos\n",
    "for i in range(1,11):  \n",
    "    filename = f\"/Users/josetudela/Projects/vinos_grupo2/Proyecto_grupo2_vinos/src/Vinos blancos de 70 a 100_{i}.csv\"\n",
    "    if os.path.exists(filename):  # Verifica que el archivo exista\n",
    "        shutil.move(filename, os.path.join(dest_folder, os.path.basename(filename)))\n",
    "        print(f\"Movido: {filename} → {dest_folder}/\")\n",
    "    else:\n",
    "        print(f\"No encontrado: {filename}\")\n",
    "\n",
    "print(\"✅ Proceso completado.\")\n"
   ]
  },
  {
   "cell_type": "code",
   "execution_count": 4,
   "metadata": {},
   "outputs": [],
   "source": [
    "#script para unir archivos\n",
    "\n",
    "import os\n",
    "\n",
    "# Ruta de la carpeta que contiene los archivos .txt\n",
    "folder_path = '/Users/josetudela/Projects/vinos_grupo2/Proyecto_grupo2_vinos/src/Vinos blancos de 70 a 100'\n",
    "\n",
    "# Nombre del archivo de salida\n",
    "output_file = 'csv_Vinos blancos de 70 a 100.csv'\n",
    "\n",
    "# Crear o abrir el archivo de salida en modo escritura\n",
    "with open(output_file, 'w', encoding='utf-8') as outfile:\n",
    "    # Iterar sobre todos los archivos de la carpeta\n",
    "    for filename in os.listdir(folder_path):\n",
    "        # Verificar si el archivo tiene extensión .txt\n",
    "        if filename.endswith('.csv'):\n",
    "            # Ruta completa del archivo\n",
    "            file_path = os.path.join(folder_path, filename)\n",
    "            \n",
    "            # Abrir el archivo .txt en modo lectura\n",
    "            with open(file_path, 'r', encoding='utf-8') as infile:\n",
    "                # Escribir el contenido del archivo en el archivo de salida\n",
    "                outfile.write(f\"--- {filename} ---\\n\")  # Opcional: poner el nombre del archivo como título\n",
    "                outfile.write(infile.read())  # Escribir el contenido del archivo\n",
    "                outfile.write(\"\\n\\n\")  # Agregar una línea vacía entre los archivos"
   ]
  },
  {
   "cell_type": "markdown",
   "metadata": {},
   "source": []
  }
 ],
 "metadata": {
  "kernelspec": {
   "display_name": ".venv",
   "language": "python",
   "name": "python3"
  },
  "language_info": {
   "codemirror_mode": {
    "name": "ipython",
    "version": 3
   },
   "file_extension": ".py",
   "mimetype": "text/x-python",
   "name": "python",
   "nbconvert_exporter": "python",
   "pygments_lexer": "ipython3",
   "version": "3.13.1"
  }
 },
 "nbformat": 4,
 "nbformat_minor": 2
}
