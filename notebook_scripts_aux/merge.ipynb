{
 "cells": [
  {
   "cell_type": "code",
   "execution_count": 3,
   "metadata": {},
   "outputs": [],
   "source": [
    "import pandas as pd\n",
    "from IPython.display import display\n",
    "import re\n"
   ]
  },
  {
   "cell_type": "code",
   "execution_count": 4,
   "metadata": {},
   "outputs": [],
   "source": [
    "df1 = pd.read_csv('C:\\\\Users\\\\Pauline\\\\Downloads\\\\Proyecto_grupo2_vinos\\\\blancos\\\\urls_blancos_total.csv')\n",
    "df2 = pd.read_csv('C:\\\\Users\\\\Pauline\\\\Downloads\\\\Proyecto_grupo2_vinos\\\\blancos\\\\caracteristicas_blancos.csv')\n"
   ]
  },
  {
   "cell_type": "code",
   "execution_count": 5,
   "metadata": {},
   "outputs": [
    {
     "name": "stdout",
     "output_type": "stream",
     "text": [
      "(17037, 1)\n",
      "(10851, 4)\n",
      "Index(['url'], dtype='object')\n",
      "Index(['ID', 'Ligero/Poderoso', 'Seco/Dulce', 'Débil/Ácido'], dtype='object')\n"
     ]
    }
   ],
   "source": [
    "print(df1.shape)\n",
    "print(df2.shape)\n",
    "\n",
    "print(df1.columns)\n",
    "print(df2.columns)"
   ]
  },
  {
   "cell_type": "code",
   "execution_count": 6,
   "metadata": {},
   "outputs": [
    {
     "data": {
      "text/plain": [
       "np.int64(5398)"
      ]
     },
     "execution_count": 6,
     "metadata": {},
     "output_type": "execute_result"
    }
   ],
   "source": [
    "df1.duplicated().sum()"
   ]
  },
  {
   "cell_type": "code",
   "execution_count": 7,
   "metadata": {},
   "outputs": [],
   "source": [
    "df1 = df1.drop_duplicates()"
   ]
  },
  {
   "cell_type": "code",
   "execution_count": 8,
   "metadata": {},
   "outputs": [
    {
     "name": "stdout",
     "output_type": "stream",
     "text": [
      "(11639, 1)\n"
     ]
    }
   ],
   "source": [
    "print(df1.shape)"
   ]
  },
  {
   "cell_type": "code",
   "execution_count": 9,
   "metadata": {},
   "outputs": [
    {
     "name": "stdout",
     "output_type": "stream",
     "text": [
      "                                                 url       ID\n",
      "0  https://www.vivino.com/ES/es/sella-mosca-monte...    15819\n",
      "1  https://www.vivino.com/ES/es/triebaumer-gelber...  1514997\n",
      "2  https://www.vivino.com/ES/es/vegalfaro-macabeo...  4262558\n",
      "3  https://www.vivino.com/ES/es/adanti-montefalco...  5707221\n",
      "4  https://www.vivino.com/ES/es/rochebin-clos-sai...  7009177\n"
     ]
    }
   ],
   "source": [
    "# La columna de las URLs está en la primera columna, y será el índice 0\n",
    "def extract_id(url):\n",
    "    match = re.search(r'/w/(\\d+)', url)\n",
    "    return match.group(1) if match else None\n",
    "\n",
    "# Crear la nueva columna 'ID' a partir de la columna 0 (sin encabezado)\n",
    "df1['ID'] = df1.iloc[:, 0].apply(extract_id)\n",
    "\n",
    "# Verificar el resultado\n",
    "print(df1.head())"
   ]
  },
  {
   "cell_type": "code",
   "execution_count": 10,
   "metadata": {},
   "outputs": [
    {
     "name": "stdout",
     "output_type": "stream",
     "text": [
      "                                                     url       ID\n",
      "72     https://www.vivino.com/ES/es/tetramythos-rodit...  5923248\n",
      "92     https://www.vivino.com/ES/es/skouras-moscofile...  1141721\n",
      "108    https://www.vivino.com/ES/es/oenops-apla-apla-...  5341468\n",
      "140    https://www.vivino.com/ES/es/aoton-retsina/w/7...  7339083\n",
      "239    https://www.vivino.com/ES/es/costa-lazaridi-am...  1540232\n",
      "...                                                  ...      ...\n",
      "16987  https://www.vivino.com/ES/es/corte-viola-bianc...  1736573\n",
      "16998  https://www.vivino.com/ES/es/domaine-saint-lan...  3125229\n",
      "17010  https://www.vivino.com/ES/es/vinos-atxega-kurm...  2219168\n",
      "17015  https://www.vivino.com/ES/es/bergdolt-reif-net...  5233952\n",
      "17016  https://www.vivino.com/ES/es/trapan-uroboros/w...  1286279\n",
      "\n",
      "[787 rows x 2 columns]\n"
     ]
    }
   ],
   "source": [
    "# Aseguramos que ambas columnas 'ID' sean del mismo tipo (convertirlas a 'str')\n",
    "df1['ID'] = df1['ID'].astype(str)\n",
    "df2['ID'] = df2['ID'].astype(str)\n",
    "\n",
    "# Realizar el merge de manera que mantengas solo los registros de df1 que no están en df2\n",
    "df3 = df1[~df1['ID'].isin(df2['ID'])]\n",
    "\n",
    "# Ver los primeros resultados\n",
    "print(df3)\n",
    "\n",
    "df3.to_csv('C:\\\\Users\\\\Pauline\\\\Downloads\\\\Proyecto_grupo2_vinos\\\\blancos\\\\blancos_faltantes.csv', index=False)\n"
   ]
  },
  {
   "cell_type": "code",
   "execution_count": 11,
   "metadata": {},
   "outputs": [],
   "source": [
    "# BF \n",
    "df4 = pd.read_csv('C:\\\\Users\\\\Pauline\\\\Downloads\\\\Proyecto_grupo2_vinos\\\\blancos\\\\DF_BF_blancos_total_ok.csv') "
   ]
  },
  {
   "cell_type": "code",
   "execution_count": 12,
   "metadata": {},
   "outputs": [
    {
     "name": "stdout",
     "output_type": "stream",
     "text": [
      "(17032, 13)\n",
      "Index(['Url', 'ID', 'Nombre', 'Año', 'País', 'Región', 'Bodega',\n",
      "       'Tipo de vino', 'Uva', 'Precio', 'Valoración', 'Contenido de alcohol',\n",
      "       'Maridajes'],\n",
      "      dtype='object')\n"
     ]
    }
   ],
   "source": [
    "print(df4.shape)\n",
    "\n",
    "print(df4.columns)"
   ]
  },
  {
   "cell_type": "code",
   "execution_count": 13,
   "metadata": {},
   "outputs": [
    {
     "data": {
      "text/plain": [
       "np.int64(5391)"
      ]
     },
     "execution_count": 13,
     "metadata": {},
     "output_type": "execute_result"
    }
   ],
   "source": [
    "df4.duplicated().sum()"
   ]
  },
  {
   "cell_type": "code",
   "execution_count": 14,
   "metadata": {},
   "outputs": [
    {
     "data": {
      "text/plain": [
       "np.int64(5398)"
      ]
     },
     "execution_count": 14,
     "metadata": {},
     "output_type": "execute_result"
    }
   ],
   "source": [
    "df4['ID'].duplicated().sum()"
   ]
  },
  {
   "cell_type": "code",
   "execution_count": 15,
   "metadata": {},
   "outputs": [
    {
     "data": {
      "text/plain": [
       "np.int64(5397)"
      ]
     },
     "execution_count": 15,
     "metadata": {},
     "output_type": "execute_result"
    }
   ],
   "source": [
    "df4['Url'].duplicated().sum()"
   ]
  },
  {
   "cell_type": "code",
   "execution_count": 16,
   "metadata": {},
   "outputs": [],
   "source": [
    "df4 = df4.drop_duplicates(subset='ID', keep='first')"
   ]
  },
  {
   "cell_type": "code",
   "execution_count": 17,
   "metadata": {},
   "outputs": [
    {
     "data": {
      "text/plain": [
       "(11634, 13)"
      ]
     },
     "execution_count": 17,
     "metadata": {},
     "output_type": "execute_result"
    }
   ],
   "source": [
    "df4.shape"
   ]
  },
  {
   "cell_type": "code",
   "execution_count": 18,
   "metadata": {},
   "outputs": [],
   "source": [
    "df4.to_csv(r'C:\\Users\\Pauline\\Downloads\\Proyecto_grupo2_vinos\\blancos\\CLEAN_DF_BF_blancos', index=False)"
   ]
  },
  {
   "cell_type": "code",
   "execution_count": 19,
   "metadata": {},
   "outputs": [
    {
     "data": {
      "text/plain": [
       "np.int64(0)"
      ]
     },
     "execution_count": 19,
     "metadata": {},
     "output_type": "execute_result"
    }
   ],
   "source": [
    "df2['ID'].duplicated().sum()"
   ]
  },
  {
   "cell_type": "code",
   "execution_count": 20,
   "metadata": {},
   "outputs": [
    {
     "name": "stdout",
     "output_type": "stream",
     "text": [
      "10849\n"
     ]
    }
   ],
   "source": [
    "#Chequear cuantos ID en comun : \n",
    "\n",
    "# # Aseguramos que ambas columnas 'ID' sean del mismo tipo (convertirlas a 'str')\n",
    "df4['ID'] = df4['ID'].astype(str)\n",
    "df2['ID'] = df2['ID'].astype(str)\n",
    "\n",
    "# Encontrar la intersección de los IDs\n",
    "ids_comunes_BF_car_blancos = pd.merge(df4[['ID']], df2[['ID']], on='ID', how='inner')\n",
    "\n",
    "# Contar cuántos IDs están en común\n",
    "cantidad_ids_comunes_BF_car_blancos = ids_comunes_BF_car_blancos.shape[0]\n",
    "print(cantidad_ids_comunes_BF_car_blancos)"
   ]
  },
  {
   "cell_type": "code",
   "execution_count": 21,
   "metadata": {},
   "outputs": [
    {
     "name": "stdout",
     "output_type": "stream",
     "text": [
      "                                                     Url       ID  \\\n",
      "0      https://www.vivino.com/ES/es/sella-mosca-monte...    15819   \n",
      "1      https://www.vivino.com/ES/es/triebaumer-gelber...  1514997   \n",
      "2      https://www.vivino.com/ES/es/vegalfaro-macabeo...  4262558   \n",
      "3      https://www.vivino.com/ES/es/adanti-montefalco...  5707221   \n",
      "4      https://www.vivino.com/ES/es/rochebin-clos-sai...  7009177   \n",
      "...                                                  ...      ...   \n",
      "11629  https://www.vivino.com/ES/es/corte-viola-bianc...  1736573   \n",
      "11630  https://www.vivino.com/ES/es/domaine-saint-lan...  3125229   \n",
      "11631  https://www.vivino.com/ES/es/vinos-atxega-kurm...  2219168   \n",
      "11632  https://www.vivino.com/ES/es/bergdolt-reif-net...  5233952   \n",
      "11633  https://www.vivino.com/ES/es/trapan-uroboros/w...  1286279   \n",
      "\n",
      "                                         Nombre            Año      País  \\\n",
      "0      Monteoro Vermentino di Gallura Superiore           2023    Italia   \n",
      "1                            Gelber Muskateller  No disponible   Austria   \n",
      "2                               Caprasia Blanco           2021    España   \n",
      "3                          Montefalco Grechetto           2023    Italia   \n",
      "4       Clos Saint Germain Bourgogne Chardonnay  No disponible   Francia   \n",
      "...                                         ...            ...       ...   \n",
      "11629                         Bianco di Custoza           2023    Italia   \n",
      "11630                    Sauvignon - Chardonnay  No disponible   Francia   \n",
      "11631                           Kurmisti Blanco  No disponible    España   \n",
      "11632           Tradition Grauburgunder Trocken  No disponible  Alemania   \n",
      "11633                                  Uroboros  No disponible   Croacia   \n",
      "\n",
      "                        Región                Bodega Tipo de vino  \\\n",
      "0        Vermentino di Gallura         Sella & Mosca  Vino blanco   \n",
      "1      Neusiedlersee-Hügelland            Triebaumer  Vino blanco   \n",
      "2                     Valencia             Vegalfaro  Vino blanco   \n",
      "3                   Montefalco                Adanti  Vino blanco   \n",
      "4                    Bourgogne   Domaine de Rochebin  Vino blanco   \n",
      "...                        ...                   ...          ...   \n",
      "11629        Bianco di Custoza           Corte Viola  Vino blanco   \n",
      "11630        Côtes de Gascogne  Domaine Saint-Lannes  Vino blanco   \n",
      "11631               País Vasco          Vinos Atxega  Vino blanco   \n",
      "11632                    Pfalz  Bergdolt-Reif & Nett  Vino blanco   \n",
      "11633         Istria (Croatia)                Trapan  Vino blanco   \n",
      "\n",
      "                                               Uva Precio Valoración  \\\n",
      "0                                       Vermentino  16.38        3.7   \n",
      "1                               Gelber Muskateller  13.69        3.8   \n",
      "2                              Chardonnay, Macabeo     12        3.5   \n",
      "3                                        Grechetto  13.84        3.5   \n",
      "4                                       Chardonnay  12.90        3.9   \n",
      "...                                            ...    ...        ...   \n",
      "11629  Chardonnay, Pinot Blanc, Cortese, Garganega   7.98        3.0   \n",
      "11630                  Chardonnay, Sauvignon Blanc   6.40        3.8   \n",
      "11631                              Hondarrabi Zuri      5        3.1   \n",
      "11632                                 Pinot Grigio   8.50        3.8   \n",
      "11633                           Malvazija Istarska   6.50        3.9   \n",
      "\n",
      "      Contenido de alcohol                                          Maridajes  \\\n",
      "0                        5      Marisco, Vegetariana, Aperitivos y tentempiés   \n",
      "1                       13  Cerdo, Marisco, Aves, Pescado azul (salmón, at...   \n",
      "2                       95                                      No disponible   \n",
      "3                       14  Vegetariana, Pasta, Aperitivos y tentempiés, P...   \n",
      "4            No disponible  Marisco, Pasta, Pescado azul (salmón, atún, et...   \n",
      "...                    ...                                                ...   \n",
      "11629                   11  Marisco, Pasta, Queso curado, Pescado blanco, ...   \n",
      "11630                   12  Marisco, Aves, Comida picante, Pescado blanco,...   \n",
      "11631                   11  Marisco, Aperitivos y tentempiés, Pescado blan...   \n",
      "11632                   19  Cerdo, Comida picante, Champiñones, Carne adobada   \n",
      "11633                   14  Marisco, Aves, Pasta, Pescado azul (salmón, at...   \n",
      "\n",
      "      Ligero/Poderoso     Seco/Dulce    Débil/Ácido  \n",
      "0                 5.8            0.4            3.4  \n",
      "1                 2.0            2.1            8.0  \n",
      "2                 4.7            0.0            4.1  \n",
      "3                 4.1            1.6            5.1  \n",
      "4                 4.5            0.6            3.4  \n",
      "...               ...            ...            ...  \n",
      "11629   No disponible  No disponible  No disponible  \n",
      "11630   No disponible  No disponible  No disponible  \n",
      "11631   No disponible  No disponible  No disponible  \n",
      "11632   No disponible  No disponible  No disponible  \n",
      "11633   No disponible  No disponible  No disponible  \n",
      "\n",
      "[11634 rows x 16 columns]\n",
      "Total de 'ID' en df4 que no están en df2: 6691\n"
     ]
    },
    {
     "name": "stderr",
     "output_type": "stream",
     "text": [
      "C:\\Users\\Pauline\\AppData\\Local\\Temp\\ipykernel_15096\\2536864152.py:8: FutureWarning: Setting an item of incompatible dtype is deprecated and will raise an error in a future version of pandas. Value 'No disponible' has dtype incompatible with float64, please explicitly cast to a compatible dtype first.\n",
      "  df4_merged.fillna(\"No disponible\", inplace=True)\n"
     ]
    }
   ],
   "source": [
    "#unos 860 faltanes, tiene sentido con num de caracteristicas que tenemos, ya hicimos doble check con selenium, los que faltan es que no tienen caracteristicas\n",
    "\n",
    "#MERGED TODOO : \n",
    "\n",
    "df4_merged = pd.merge(df4, df2, on='ID', how='left')\n",
    "\n",
    "# Reemplazar los valores NaN en las columnas de df2 por \"No disponible\"\n",
    "df4_merged.fillna(\"No disponible\", inplace=True)\n",
    "\n",
    "# Contar cuántos 'ID' de df4 no están en df2 (los que se volvieron 'No disponible')\n",
    "no_disponible_count = df4_merged[df4_merged.isin([\"No disponible\"]).any(axis=1)].shape[0]\n",
    "\n",
    "# Ver los primeros resultados del DataFrame resultante\n",
    "print(df4_merged)\n",
    "\n",
    "# Mostrar cuántos 'ID' no están en df2\n",
    "print(f\"Total de 'ID' en df4 que no están en df2: {no_disponible_count}\")\n",
    "\n",
    "df4_merged.to_csv('C:\\\\Users\\\\Pauline\\\\Downloads\\\\Proyecto_grupo2_vinos\\\\blancos\\\\1_OKKK_DF_BF_car_blancos_.csv', index=False)\n",
    "\n",
    "\n"
   ]
  },
  {
   "cell_type": "code",
   "execution_count": 22,
   "metadata": {},
   "outputs": [
    {
     "data": {
      "text/plain": [
       "np.int64(0)"
      ]
     },
     "execution_count": 22,
     "metadata": {},
     "output_type": "execute_result"
    }
   ],
   "source": [
    "df4_merged.duplicated().sum()"
   ]
  },
  {
   "cell_type": "markdown",
   "metadata": {},
   "source": [
    "notas de sabor"
   ]
  },
  {
   "cell_type": "code",
   "execution_count": 23,
   "metadata": {},
   "outputs": [
    {
     "ename": "SyntaxError",
     "evalue": "(unicode error) 'unicodeescape' codec can't decode bytes in position 914-915: truncated \\UXXXXXXXX escape (2638526632.py, line 19)",
     "output_type": "error",
     "traceback": [
      "\u001b[1;36m  Cell \u001b[1;32mIn[23], line 19\u001b[1;36m\u001b[0m\n\u001b[1;33m    df_cleaned_ns_bl.to_csv(r'C:\\Users\\Pauline\\Downloads\\Proyecto_grupo2_vinos\\blancos\\notas de sabor blancos\\NS_vino blancos hastas 10200 clean.csv')'''\u001b[0m\n\u001b[1;37m                                                                                                                                                         ^\u001b[0m\n\u001b[1;31mSyntaxError\u001b[0m\u001b[1;31m:\u001b[0m (unicode error) 'unicodeescape' codec can't decode bytes in position 914-915: truncated \\UXXXXXXXX escape\n"
     ]
    }
   ],
   "source": [
    "'''#juntar todos los csv : \n",
    "\n",
    "#1 : limpiar el archivo que no esta al mismo formato que los otros : \n",
    "df_nstoclean = pd.read_csv('C:\\\\Users\\\\Pauline\\\\Downloads\\\\Proyecto_grupo2_vinos\\\\blancos\\\\notas de sabor blancos\\\\csv_Vino_blanco_hasta _10200_notas_sabor.csv')\n",
    "\n",
    "# Eliminar las filas vacías\n",
    "df_cleaned_ns_bl = df_nstoclean.dropna(how='all')  # Elimina filas donde todos los valores son NaN\n",
    "\n",
    "df_cleaned_ns_bl.columns\n",
    "\n",
    "# Eliminar las filas donde aparece el título '---' en la columna 'Url'\n",
    "# Esto eliminará las filas que contienen texto como \"--- wine_data_batch_38.csv ---\"\n",
    "df_cleaned_ns_bl = df_cleaned_ns_bl[~df_cleaned_ns_bl['--- Vino blanco hasta 10200_1.csv ---'].str.contains(r'---|Wine_ID', na=False)]\n",
    "\n",
    "# Verifica los resultados\n",
    "print(f\"DataFrame limpio, filas restantes: {df_cleaned_ns_bl.shape[0]}\")\n",
    "\n",
    "# Guardar el DataFrame limpio en un nuevo archivo CSV\n",
    "df_cleaned_ns_bl.to_csv(r'C:\\Users\\Pauline\\Downloads\\Proyecto_grupo2_vinos\\blancos\\notas de sabor blancos\\NS_vino blancos hastas 10200 clean.csv')'''\n",
    "\n"
   ]
  },
  {
   "cell_type": "code",
   "execution_count": 24,
   "metadata": {},
   "outputs": [
    {
     "name": "stdout",
     "output_type": "stream",
     "text": [
      "0\n",
      "        ID               Taste_Notes_1               Taste_Notes_2  \\\n",
      "0  1531985  mantequilla, roble, vai...  manzana, melocotón, man...   \n",
      "1  7663927       miel, solución salina             roble, vainilla   \n",
      "2  1583054  roble, mantequilla, vai...  melocotón, albaricoque,...   \n",
      "3  1427149  naranja, cítrico, pomel...  tropical, mango, fruta ...   \n",
      "4  5084353  roble, vainilla, manteq...  tropical, mango, piña a...   \n",
      "\n",
      "                Taste_Notes_3 Taste_Notes_1_1 Taste_Notes_1_2 Taste_Notes_1_3  \\\n",
      "0     minerales, miel, piedra             NaN             NaN             NaN   \n",
      "1                    avellana             NaN             NaN             NaN   \n",
      "2      miel, minerales, sílex             NaN             NaN             NaN   \n",
      "3  melocotón, albaricoque,...             NaN             NaN             NaN   \n",
      "4        cítrico, limón, lima             NaN             NaN             NaN   \n",
      "\n",
      "  Taste_Notes_2_1 Taste_Notes_2_2 Taste_Notes_2_3 Taste_Notes_3_1  \\\n",
      "0             NaN             NaN             NaN             NaN   \n",
      "1             NaN             NaN             NaN             NaN   \n",
      "2             NaN             NaN             NaN             NaN   \n",
      "3             NaN             NaN             NaN             NaN   \n",
      "4             NaN             NaN             NaN             NaN   \n",
      "\n",
      "  Taste_Notes_3_2 Taste_Notes_3_3  \n",
      "0             NaN             NaN  \n",
      "1             NaN             NaN  \n",
      "2             NaN             NaN  \n",
      "3             NaN             NaN  \n",
      "4             NaN             NaN  \n"
     ]
    }
   ],
   "source": [
    "\n",
    "\n",
    "import os\n",
    "import pandas as pd\n",
    "\n",
    "# Ruta de la carpeta donde están los CSV\n",
    "folder_path = 'C:\\\\Users\\\\Pauline\\\\Downloads\\\\Proyecto_grupo2_vinos\\\\blancos\\\\notas de sabor blancos'\n",
    "\n",
    "# Lista para almacenar los DataFrames de cada archivo CSV\n",
    "all_csv_files = []\n",
    "\n",
    "# Iterar sobre todos los archivos en la carpeta\n",
    "for filename in os.listdir(folder_path):\n",
    "    # Comprobar si el archivo es un archivo CSV\n",
    "    if filename.endswith('.csv'):\n",
    "        file_path = os.path.join(folder_path, filename)\n",
    "        \n",
    "        # Leer el CSV y añadirlo a la lista\n",
    "        df = pd.read_csv(file_path)\n",
    "        all_csv_files.append(df)\n",
    "\n",
    "# Concatenar todos los DataFrames en uno solo\n",
    "combined_df = pd.concat(all_csv_files, ignore_index=True)\n",
    "\n",
    "\n",
    "#print(combined_df['ID'].duplicated().sum())\n",
    "\n",
    "combined_df = combined_df.drop_duplicates(subset='ID', keep='first')\n",
    "\n",
    "print(combined_df['ID'].duplicated().sum())\n",
    "\n",
    "\n",
    "\n",
    "\n",
    "\n",
    "# Verificar las primeras filas del DataFrame combinado\n",
    "print(combined_df.head())\n",
    "combined_df.to_csv(r'C:\\Users\\Pauline\\Downloads\\Proyecto_grupo2_vinos\\blancos\\DF_NS_total.csv')"
   ]
  },
  {
   "cell_type": "code",
   "execution_count": 25,
   "metadata": {},
   "outputs": [
    {
     "data": {
      "text/plain": [
       "(8843, 13)"
      ]
     },
     "execution_count": 25,
     "metadata": {},
     "output_type": "execute_result"
    }
   ],
   "source": [
    "combined_df.shape"
   ]
  },
  {
   "cell_type": "markdown",
   "metadata": {},
   "source": [
    "juntar el df que ya tenemos con info de BF y caracteristicas con notas de sabor"
   ]
  },
  {
   "cell_type": "code",
   "execution_count": 26,
   "metadata": {},
   "outputs": [
    {
     "name": "stdout",
     "output_type": "stream",
     "text": [
      "(11634, 16)\n",
      "(8843, 13)\n",
      "Index(['Url', 'ID', 'Nombre', 'Año', 'País', 'Región', 'Bodega',\n",
      "       'Tipo de vino', 'Uva', 'Precio', 'Valoración', 'Contenido de alcohol',\n",
      "       'Maridajes', 'Ligero/Poderoso', 'Seco/Dulce', 'Débil/Ácido'],\n",
      "      dtype='object')\n",
      "Index(['ID', 'Taste_Notes_1', 'Taste_Notes_2', 'Taste_Notes_3',\n",
      "       'Taste_Notes_1_1', 'Taste_Notes_1_2', 'Taste_Notes_1_3',\n",
      "       'Taste_Notes_2_1', 'Taste_Notes_2_2', 'Taste_Notes_2_3',\n",
      "       'Taste_Notes_3_1', 'Taste_Notes_3_2', 'Taste_Notes_3_3'],\n",
      "      dtype='object')\n",
      "0\n",
      "0\n"
     ]
    }
   ],
   "source": [
    "print(df4_merged.shape)\n",
    "print(combined_df.shape)\n",
    "\n",
    "print(df4_merged.columns)\n",
    "print(combined_df.columns)\n",
    "\n",
    "print(df4_merged['ID'].duplicated().sum())\n",
    "print(combined_df['ID'].duplicated().sum())"
   ]
  },
  {
   "cell_type": "code",
   "execution_count": 27,
   "metadata": {},
   "outputs": [
    {
     "name": "stdout",
     "output_type": "stream",
     "text": [
      "8842\n"
     ]
    }
   ],
   "source": [
    "#Chequear cuantos ID en comun : \n",
    "\n",
    "# # Aseguramos que ambas columnas 'ID' sean del mismo tipo (convertirlas a 'str')\n",
    "df4_merged['ID'] = df4_merged['ID'].astype(str)\n",
    "combined_df['ID'] = combined_df['ID'].astype(str)\n",
    "\n",
    "# Encontrar la intersección de los IDs\n",
    "ids_comunes_DFFinal_ns_blancos = pd.merge(df4_merged[['ID']], combined_df[['ID']], on='ID', how='inner')\n",
    "\n",
    "# Contar cuántos IDs están en común\n",
    "cantidad_ids_comunes_DFFinal_ns_blancos = ids_comunes_DFFinal_ns_blancos.shape[0]\n",
    "print(cantidad_ids_comunes_DFFinal_ns_blancos)\n"
   ]
  },
  {
   "cell_type": "code",
   "execution_count": 28,
   "metadata": {},
   "outputs": [
    {
     "name": "stdout",
     "output_type": "stream",
     "text": [
      "                                                     Url       ID  \\\n",
      "0      https://www.vivino.com/ES/es/sella-mosca-monte...    15819   \n",
      "1      https://www.vivino.com/ES/es/triebaumer-gelber...  1514997   \n",
      "2      https://www.vivino.com/ES/es/vegalfaro-macabeo...  4262558   \n",
      "3      https://www.vivino.com/ES/es/adanti-montefalco...  5707221   \n",
      "4      https://www.vivino.com/ES/es/rochebin-clos-sai...  7009177   \n",
      "...                                                  ...      ...   \n",
      "11656  https://www.vivino.com/ES/es/corte-viola-bianc...  1736573   \n",
      "11657  https://www.vivino.com/ES/es/domaine-saint-lan...  3125229   \n",
      "11658  https://www.vivino.com/ES/es/vinos-atxega-kurm...  2219168   \n",
      "11659  https://www.vivino.com/ES/es/bergdolt-reif-net...  5233952   \n",
      "11660  https://www.vivino.com/ES/es/trapan-uroboros/w...  1286279   \n",
      "\n",
      "                                         Nombre            Año      País  \\\n",
      "0      Monteoro Vermentino di Gallura Superiore           2023    Italia   \n",
      "1                            Gelber Muskateller  No disponible   Austria   \n",
      "2                               Caprasia Blanco           2021    España   \n",
      "3                          Montefalco Grechetto           2023    Italia   \n",
      "4       Clos Saint Germain Bourgogne Chardonnay  No disponible   Francia   \n",
      "...                                         ...            ...       ...   \n",
      "11656                         Bianco di Custoza           2023    Italia   \n",
      "11657                    Sauvignon - Chardonnay  No disponible   Francia   \n",
      "11658                           Kurmisti Blanco  No disponible    España   \n",
      "11659           Tradition Grauburgunder Trocken  No disponible  Alemania   \n",
      "11660                                  Uroboros  No disponible   Croacia   \n",
      "\n",
      "                        Región                Bodega Tipo de vino  \\\n",
      "0        Vermentino di Gallura         Sella & Mosca  Vino blanco   \n",
      "1      Neusiedlersee-Hügelland            Triebaumer  Vino blanco   \n",
      "2                     Valencia             Vegalfaro  Vino blanco   \n",
      "3                   Montefalco                Adanti  Vino blanco   \n",
      "4                    Bourgogne   Domaine de Rochebin  Vino blanco   \n",
      "...                        ...                   ...          ...   \n",
      "11656        Bianco di Custoza           Corte Viola  Vino blanco   \n",
      "11657        Côtes de Gascogne  Domaine Saint-Lannes  Vino blanco   \n",
      "11658               País Vasco          Vinos Atxega  Vino blanco   \n",
      "11659                    Pfalz  Bergdolt-Reif & Nett  Vino blanco   \n",
      "11660         Istria (Croatia)                Trapan  Vino blanco   \n",
      "\n",
      "                                               Uva Precio  ...  Taste_Notes_3  \\\n",
      "0                                       Vermentino  16.38  ...  No disponible   \n",
      "1                               Gelber Muskateller  13.69  ...  No disponible   \n",
      "2                              Chardonnay, Macabeo     12  ...  No disponible   \n",
      "3                                        Grechetto  13.84  ...  No disponible   \n",
      "4                                       Chardonnay  12.90  ...  No disponible   \n",
      "...                                            ...    ...  ...            ...   \n",
      "11656  Chardonnay, Pinot Blanc, Cortese, Garganega   7.98  ...  No disponible   \n",
      "11657                  Chardonnay, Sauvignon Blanc   6.40  ...  No disponible   \n",
      "11658                              Hondarrabi Zuri      5  ...  No disponible   \n",
      "11659                                 Pinot Grigio   8.50  ...  No disponible   \n",
      "11660                           Malvazija Istarska   6.50  ...  No disponible   \n",
      "\n",
      "      Taste_Notes_1_1 Taste_Notes_1_2 Taste_Notes_1_3     Taste_Notes_2_1  \\\n",
      "0           melocotón         manzana          per...             cítrico   \n",
      "1               melón   manzana verde            m...               limón   \n",
      "2               limón    piel de lima           cí...                pera   \n",
      "3           melocotón         manzana          per...           minerales   \n",
      "4               roble     mantequilla          vai...               limón   \n",
      "...               ...             ...             ...                 ...   \n",
      "11656   No disponible   No disponible   No disponible       No disponible   \n",
      "11657         cítrico           limón          pomelo  fruta de la pasión   \n",
      "11658   manzana verde         manzana             ...             cítrico   \n",
      "11659         cítrico           limón            lima           minerales   \n",
      "11660           roble     mantequilla          vai...                pera   \n",
      "\n",
      "      Taste_Notes_2_2 Taste_Notes_2_3 Taste_Notes_3_1 Taste_Notes_3_2  \\\n",
      "0               limón          pomelo       minerales            miel   \n",
      "1                lima       mandarina   flor de saúco     madresel...   \n",
      "2             manzana           drupa           roble     mantequilla   \n",
      "3                miel          piedra         cítrico   No disponible   \n",
      "4                lima         cítrico         manzana       melocotón   \n",
      "...               ...             ...             ...             ...   \n",
      "11656   No disponible   No disponible   No disponible   No disponible   \n",
      "11657   No disponible   No disponible       melocotón   No disponible   \n",
      "11658   No disponible   No disponible          hierba   No disponible   \n",
      "11659   No disponible   No disponible         manzana   No disponible   \n",
      "11660       melocotón       albari...            miel       minerales   \n",
      "\n",
      "      Taste_Notes_3_3  \n",
      "0              piedra  \n",
      "1       No disponible  \n",
      "2       No disponible  \n",
      "3       No disponible  \n",
      "4              per...  \n",
      "...               ...  \n",
      "11656   No disponible  \n",
      "11657   No disponible  \n",
      "11658   No disponible  \n",
      "11659   No disponible  \n",
      "11660            humo  \n",
      "\n",
      "[11661 rows x 28 columns]\n",
      "(11661, 28)\n",
      "0\n"
     ]
    }
   ],
   "source": [
    "#MERGED TODOO : \n",
    "\n",
    "df4_merged['ID'] = df4_merged['ID'].astype(str)\n",
    "combined_df['ID'] = combined_df['ID'].astype(str)\n",
    "\n",
    "final_df_blancos = pd.merge(df4_merged, combined_df, on='ID', how='left')\n",
    "\n",
    "# Reemplazar los valores NaN en las columnas de df2 por \"No disponible\"\n",
    "final_df_blancos.fillna(\"No disponible\", inplace=True)\n",
    "\n",
    "\n",
    "# Ver los primeros resultados del DataFrame resultante\n",
    "print(final_df_blancos)\n",
    "print(final_df_blancos.shape)\n",
    "print(final_df_blancos.duplicated().sum())\n",
    "\n"
   ]
  },
  {
   "cell_type": "code",
   "execution_count": 29,
   "metadata": {},
   "outputs": [
    {
     "data": {
      "text/plain": [
       "Index(['Url', 'ID', 'Nombre', 'Año', 'País', 'Región', 'Bodega',\n",
       "       'Tipo de vino', 'Uva', 'Precio', 'Valoración', 'Contenido de alcohol',\n",
       "       'Maridajes', 'Ligero/Poderoso', 'Seco/Dulce', 'Débil/Ácido',\n",
       "       'Taste_Notes_1', 'Taste_Notes_2', 'Taste_Notes_3', 'Taste_Notes_1_1',\n",
       "       'Taste_Notes_1_2', 'Taste_Notes_1_3', 'Taste_Notes_2_1',\n",
       "       'Taste_Notes_2_2', 'Taste_Notes_2_3', 'Taste_Notes_3_1',\n",
       "       'Taste_Notes_3_2', 'Taste_Notes_3_3'],\n",
       "      dtype='object')"
      ]
     },
     "execution_count": 29,
     "metadata": {},
     "output_type": "execute_result"
    }
   ],
   "source": [
    "final_df_blancos.columns"
   ]
  },
  {
   "cell_type": "markdown",
   "metadata": {},
   "source": [
    "LIMPIAR LAS COLUMNAS TASTE NOTE QUE NO TIENEN MISMO FORMATO"
   ]
  },
  {
   "cell_type": "code",
   "execution_count": 30,
   "metadata": {},
   "outputs": [
    {
     "data": {
      "text/plain": [
       "(11661, 4)"
      ]
     },
     "execution_count": 30,
     "metadata": {},
     "output_type": "execute_result"
    }
   ],
   "source": [
    "final_df_blancos.columns = final_df_blancos.columns.str.strip()\n",
    "\n",
    "#vamos a tratar primero las columnas que tienen las notas de sabor no separadadas, en 3 columnas(3 palabras x columnas)\n",
    "df1 = final_df_blancos[['ID', 'Taste_Notes_1', 'Taste_Notes_2', 'Taste_Notes_3']]\n",
    "\n",
    "df1.shape"
   ]
  },
  {
   "cell_type": "code",
   "execution_count": 31,
   "metadata": {},
   "outputs": [
    {
     "data": {
      "text/plain": [
       "(651, 4)"
      ]
     },
     "execution_count": 31,
     "metadata": {},
     "output_type": "execute_result"
    }
   ],
   "source": [
    "#Filtramos las lineas que tienen esas columna rellenas\n",
    "df1 = df1[~((df1['Taste_Notes_1'] == 'No disponible') & \n",
    "            (df1['Taste_Notes_2'] == 'No disponible') & \n",
    "            (df1['Taste_Notes_3'] == 'No disponible'))]\n",
    "\n",
    "df1.shape"
   ]
  },
  {
   "cell_type": "code",
   "execution_count": 32,
   "metadata": {},
   "outputs": [
    {
     "name": "stdout",
     "output_type": "stream",
     "text": [
      "           ID Taste_Notes_1_1       Taste_Notes_1_2 Taste_Notes_1_3  \\\n",
      "1431  1531985     mantequilla                 roble          vai...   \n",
      "1432  7663927            miel       solución salina   No disponible   \n",
      "1433  1583054           roble           mantequilla          vai...   \n",
      "1434  1427149         naranja               cítrico        pomel...   \n",
      "1435  5084353           roble              vainilla       manteq...   \n",
      "...       ...             ...                   ...             ...   \n",
      "2193  1977136            miel             minerales       soluci...   \n",
      "2195  5173174       minerales                  miel          piedra   \n",
      "2196  1107906     albaricoque             melocotón             ...   \n",
      "2197  1257630       minerales                  miel          piedra   \n",
      "2198  5794737           roble   mantequilla avel...   No disponible   \n",
      "\n",
      "     Taste_Notes_2_1 Taste_Notes_2_2 Taste_Notes_2_3 Taste_Notes_3_1  \\\n",
      "1431         manzana       melocotón          man...       minerales   \n",
      "1432           roble        vainilla   No disponible        avellana   \n",
      "1433       melocotón     albaricoque             ...            miel   \n",
      "1434        tropical           mango       fruta ...       melocotón   \n",
      "1435        tropical           mango       piña a...         cítrico   \n",
      "...              ...             ...             ...             ...   \n",
      "2193            pera       melocotón       manzan...         cítrico   \n",
      "2195         manzana       melocotón          per...         cítrico   \n",
      "2196            miel       minerales          piedra      madreselva   \n",
      "2197         cítrico           limón          pomelo     mantequilla   \n",
      "2198           crema   No disponible   No disponible         manzana   \n",
      "\n",
      "     Taste_Notes_3_2 Taste_Notes_3_3  \n",
      "1431            miel          piedra  \n",
      "1432   No disponible   No disponible  \n",
      "1433       minerales           sílex  \n",
      "1434     albaricoque             ...  \n",
      "1435           limón            lima  \n",
      "...              ...             ...  \n",
      "2193           limón      piel de...  \n",
      "2195          pomelo           limón  \n",
      "2196           lirio         viol...  \n",
      "2197           roble          tof...  \n",
      "2198            pera   No disponible  \n",
      "\n",
      "[651 rows x 10 columns]\n"
     ]
    }
   ],
   "source": [
    "#Separamos las palabras y creamos las 9 columnas:\n",
    "\n",
    "df1_separado_1 = df1['Taste_Notes_1'].str.split(',', expand=True)\n",
    "df1_separado_2 = df1['Taste_Notes_2'].str.split(',', expand=True)\n",
    "df1_separado_3 = df1['Taste_Notes_3'].str.split(',', expand=True)\n",
    "\n",
    "# Renombramos las nuevas columnas para que tengan nombres únicos\n",
    "df1_separado_1.columns = ['Taste_Notes_1_1', 'Taste_Notes_1_2', 'Taste_Notes_1_3']\n",
    "df1_separado_2.columns = ['Taste_Notes_2_1', 'Taste_Notes_2_2', 'Taste_Notes_2_3']\n",
    "df1_separado_3.columns = ['Taste_Notes_3_1', 'Taste_Notes_3_2', 'Taste_Notes_3_3']\n",
    "\n",
    "# Concatenamos todo junto con la columna 'ID'\n",
    "df1= pd.concat([df1[['ID']], df1_separado_1, df1_separado_2, df1_separado_3], axis=1)\n",
    "\n",
    "# Si hay valores nulos, los reemplazamos por \"No disponible\"\n",
    "df1 = df1.fillna('No disponible')\n",
    "\n",
    "# Mostrar el resultado final\n",
    "print(df1)\n"
   ]
  },
  {
   "cell_type": "code",
   "execution_count": 33,
   "metadata": {},
   "outputs": [
    {
     "data": {
      "text/plain": [
       "Index(['ID', 'Taste_Notes_1_1', 'Taste_Notes_1_2', 'Taste_Notes_1_3',\n",
       "       'Taste_Notes_2_1', 'Taste_Notes_2_2', 'Taste_Notes_2_3',\n",
       "       'Taste_Notes_3_1', 'Taste_Notes_3_2', 'Taste_Notes_3_3'],\n",
       "      dtype='object')"
      ]
     },
     "execution_count": 33,
     "metadata": {},
     "output_type": "execute_result"
    }
   ],
   "source": [
    "#Check :\n",
    "df1.columns"
   ]
  },
  {
   "cell_type": "code",
   "execution_count": 34,
   "metadata": {},
   "outputs": [
    {
     "data": {
      "text/plain": [
       "(11661, 10)"
      ]
     },
     "execution_count": 34,
     "metadata": {},
     "output_type": "execute_result"
    }
   ],
   "source": [
    "#Tratamos ahora taste notes que ya estaba separada en 9 columnas : \n",
    "\n",
    "df2 = final_df_blancos[['ID','Taste_Notes_1_1',\n",
    "       'Taste_Notes_1_2', 'Taste_Notes_1_3', 'Taste_Notes_2_1',\n",
    "       'Taste_Notes_2_2', 'Taste_Notes_2_3', 'Taste_Notes_3_1',\n",
    "       'Taste_Notes_3_2', 'Taste_Notes_3_3']]\n",
    "\n",
    "df2.shape"
   ]
  },
  {
   "cell_type": "code",
   "execution_count": 35,
   "metadata": {},
   "outputs": [
    {
     "name": "stdout",
     "output_type": "stream",
     "text": [
      "(7599, 10)\n"
     ]
    }
   ],
   "source": [
    "#Y quitamos las que tienen \"No dispoible en esas columnas (que significa que la info está en el df1)\n",
    "\n",
    "df2 = df2[df2['Taste_Notes_1_1'] != 'No disponible']\n",
    "print(df2.shape)\n"
   ]
  },
  {
   "cell_type": "code",
   "execution_count": 36,
   "metadata": {},
   "outputs": [
    {
     "name": "stdout",
     "output_type": "stream",
     "text": [
      "(3411, 10)\n"
     ]
    }
   ],
   "source": [
    "#Y ahora filtramos lineas que no tienen nada de info de notas de sabor :\n",
    "\n",
    "df3 = final_df_blancos[(final_df_blancos['Taste_Notes_1'] == 'No disponible') & (final_df_blancos['Taste_Notes_1_1'] == 'No disponible')]\n",
    "df3 = df3[['ID', 'Taste_Notes_1_1', 'Taste_Notes_1_2', 'Taste_Notes_1_3',\n",
    "       'Taste_Notes_2_1', 'Taste_Notes_2_2', 'Taste_Notes_2_3',\n",
    "       'Taste_Notes_3_1', 'Taste_Notes_3_2', 'Taste_Notes_3_3']]\n",
    "print(df3.shape)"
   ]
  },
  {
   "cell_type": "code",
   "execution_count": 37,
   "metadata": {},
   "outputs": [
    {
     "name": "stdout",
     "output_type": "stream",
     "text": [
      "Index(['ID', 'Taste_Notes_1_1', 'Taste_Notes_1_2', 'Taste_Notes_1_3',\n",
      "       'Taste_Notes_2_1', 'Taste_Notes_2_2', 'Taste_Notes_2_3',\n",
      "       'Taste_Notes_3_1', 'Taste_Notes_3_2', 'Taste_Notes_3_3'],\n",
      "      dtype='object')\n",
      "Index(['ID', 'Taste_Notes_1_1', 'Taste_Notes_1_2', 'Taste_Notes_1_3',\n",
      "       'Taste_Notes_2_1', 'Taste_Notes_2_2', 'Taste_Notes_2_3',\n",
      "       'Taste_Notes_3_1', 'Taste_Notes_3_2', 'Taste_Notes_3_3'],\n",
      "      dtype='object')\n",
      "Index(['ID', 'Taste_Notes_1_1', 'Taste_Notes_1_2', 'Taste_Notes_1_3',\n",
      "       'Taste_Notes_2_1', 'Taste_Notes_2_2', 'Taste_Notes_2_3',\n",
      "       'Taste_Notes_3_1', 'Taste_Notes_3_2', 'Taste_Notes_3_3'],\n",
      "      dtype='object')\n"
     ]
    }
   ],
   "source": [
    "#Check que todo este igual : \n",
    "\n",
    "print(df1.columns)\n",
    "print(df2.columns)\n",
    "print(df3.columns)"
   ]
  },
  {
   "cell_type": "code",
   "execution_count": 38,
   "metadata": {},
   "outputs": [
    {
     "name": "stdout",
     "output_type": "stream",
     "text": [
      "(11634, 10)\n",
      "0\n",
      "Index(['ID', 'Taste_Notes_1_1', 'Taste_Notes_1_2', 'Taste_Notes_1_3',\n",
      "       'Taste_Notes_2_1', 'Taste_Notes_2_2', 'Taste_Notes_2_3',\n",
      "       'Taste_Notes_3_1', 'Taste_Notes_3_2', 'Taste_Notes_3_3'],\n",
      "      dtype='object')\n"
     ]
    }
   ],
   "source": [
    "#Todas  columnas ID e str:\n",
    "df1['ID'] = df1['ID'].astype(str)\n",
    "df2['ID'] = df2['ID'].astype(str)\n",
    "df3['ID'] = df3['ID'].astype(str)\n",
    "\n",
    "\n",
    "# Usar pd.concat() para agregar las filas de los DataFrames\n",
    "ns_clean_blancos = pd.concat([df1, df2, df3], ignore_index=True, axis=0)\n",
    "\n",
    "# Reemplazar los valores NaN por \"No disponible\"\n",
    "ns_clean_blancos.fillna(\"No disponible\", inplace=True)\n",
    "ns_clean_blancos = ns_clean_blancos.drop_duplicates(subset='ID', keep='first')\n",
    "\n",
    "# Ver los primeros resultados del DataFrame resultante\n",
    "\n",
    "print(ns_clean_blancos.shape)\n",
    "print(ns_clean_blancos['ID'].duplicated().sum())\n",
    "print(ns_clean_blancos.columns)\n"
   ]
  },
  {
   "cell_type": "code",
   "execution_count": 39,
   "metadata": {},
   "outputs": [
    {
     "name": "stdout",
     "output_type": "stream",
     "text": [
      "(11661, 16)\n"
     ]
    }
   ],
   "source": [
    "#Borramos las columans taste del final df :\n",
    "\n",
    "columns_to_drop = ['Taste_Notes_1', 'Taste_Notes_2', 'Taste_Notes_3', \n",
    "                   'Taste_Notes_1_1', 'Taste_Notes_1_2', 'Taste_Notes_1_3',\n",
    "                   'Taste_Notes_2_1', 'Taste_Notes_2_2', 'Taste_Notes_2_3',\n",
    "                   'Taste_Notes_3_1', 'Taste_Notes_3_2', 'Taste_Notes_3_3']\n",
    "\n",
    "final_df_blancos.drop(columns=columns_to_drop, inplace=True)\n",
    "print(final_df_blancos.shape)"
   ]
  },
  {
   "cell_type": "code",
   "execution_count": 50,
   "metadata": {},
   "outputs": [
    {
     "name": "stdout",
     "output_type": "stream",
     "text": [
      "(11634, 25)\n",
      "0\n",
      "Index(['Url', 'ID', 'Nombre', 'Año', 'País', 'Región', 'Bodega',\n",
      "       'Tipo de vino', 'Uva', 'Precio', 'Valoración', 'Contenido de alcohol',\n",
      "       'Maridajes', 'Ligero/Poderoso', 'Seco/Dulce', 'Débil/Ácido',\n",
      "       'Taste_Notes_1_1', 'Taste_Notes_1_2', 'Taste_Notes_1_3',\n",
      "       'Taste_Notes_2_1', 'Taste_Notes_2_2', 'Taste_Notes_2_3',\n",
      "       'Taste_Notes_3_1', 'Taste_Notes_3_2', 'Taste_Notes_3_3'],\n",
      "      dtype='object')\n"
     ]
    }
   ],
   "source": [
    "#volvemos a merge, pero con el clean_note_taste, para agregar las 9 columnas : \n",
    "\n",
    "ns_clean_blancos['ID'] = ns_clean_blancos['ID'].astype(str)\n",
    "final_df_blancos['ID'] = final_df_blancos['ID'].astype(str)\n",
    "\n",
    "final_df_blancos_clean = pd.merge(final_df_blancos, ns_clean_blancos,on='ID', how='left')\n",
    "\n",
    "# Reemplazar los valores NaN en las columnas de df2 por \"No disponible\"\n",
    "final_df_blancos.fillna(\"No disponible\", inplace=True)\n",
    "final_df_blancos = final_df_blancos.drop_duplicates(subset='ID', keep='first')\n",
    "\n",
    "\n",
    "\n",
    "# Ver los primeros resultados del DataFrame resultante\n",
    "\n",
    "print(final_df_blancos_clean.shape)\n",
    "print(final_df_blancos_clean['ID'].duplicated().sum())\n",
    "print(final_df_blancos_clean.columns)\n",
    "\n",
    "final_df_blancos_clean.to_csv(r'C:\\Users\\Pauline\\Downloads\\Proyecto_grupo2_vinos\\blancos\\FINAL_DF_BLANCOS_CLEANED_NS.csv', index=False)\n"
   ]
  },
  {
   "cell_type": "code",
   "execution_count": 51,
   "metadata": {},
   "outputs": [
    {
     "name": "stdout",
     "output_type": "stream",
     "text": [
      "Index(['ID', '0', '1', '2', '3', '4', '5', '6', '7', '8'], dtype='object')\n"
     ]
    }
   ],
   "source": [
    "ns_entire = pd.read_csv('C:\\\\Users\\\\Pauline\\\\Downloads\\\\Proyecto_grupo2_vinos\\\\blancos\\\\df_blancos_NS_rellenadas.csv')\n",
    "ns_entire.rename(columns={ \n",
    "    'Taste_Notes_1_1': '0', 'Taste_Notes_1_2': '1', 'Taste_Notes_1_3': '2',\n",
    "    'Taste_Notes_2_1': '3', 'Taste_Notes_2_2': '4', 'Taste_Notes_2_3': '5',\n",
    "    'Taste_Notes_3_1': '6', 'Taste_Notes_3_2': '7', 'Taste_Notes_3_3': '8'\n",
    "}, inplace=True)\n",
    "\n",
    "print(ns_entire.columns)"
   ]
  },
  {
   "cell_type": "code",
   "execution_count": 53,
   "metadata": {},
   "outputs": [
    {
     "name": "stdout",
     "output_type": "stream",
     "text": [
      "Index(['Url', 'ID', 'Nombre', 'Año', 'País', 'Región', 'Bodega',\n",
      "       'Tipo de vino', 'Uva', 'Precio', 'Valoración', 'Contenido de alcohol',\n",
      "       'Maridajes', 'Ligero/Poderoso', 'Seco/Dulce', 'Débil/Ácido',\n",
      "       'Taste_Notes_1_1', 'Taste_Notes_1_2', 'Taste_Notes_1_3',\n",
      "       'Taste_Notes_2_1', 'Taste_Notes_2_2', 'Taste_Notes_2_3',\n",
      "       'Taste_Notes_3_1', 'Taste_Notes_3_2', 'Taste_Notes_3_3'],\n",
      "      dtype='object')\n",
      "(11634, 25)\n"
     ]
    }
   ],
   "source": [
    "final_df_blancos = pd.read_csv('C:\\\\Users\\\\Pauline\\\\Downloads\\\\Proyecto_grupo2_vinos\\\\blancos\\\\FINAL_DF_BLANCOS_CLEANED_NS.csv')\n",
    "print(final_df_blancos.columns)\n",
    "print(final_df_blancos.shape)\n"
   ]
  },
  {
   "cell_type": "code",
   "execution_count": 54,
   "metadata": {},
   "outputs": [
    {
     "name": "stdout",
     "output_type": "stream",
     "text": [
      "(11661, 34)\n",
      "Index(['Url', 'ID', 'Nombre', 'Año', 'País', 'Región', 'Bodega',\n",
      "       'Tipo de vino', 'Uva', 'Precio', 'Valoración', 'Contenido de alcohol',\n",
      "       'Maridajes', 'Ligero/Poderoso', 'Seco/Dulce', 'Débil/Ácido',\n",
      "       'Taste_Notes_1_1', 'Taste_Notes_1_2', 'Taste_Notes_1_3',\n",
      "       'Taste_Notes_2_1', 'Taste_Notes_2_2', 'Taste_Notes_2_3',\n",
      "       'Taste_Notes_3_1', 'Taste_Notes_3_2', 'Taste_Notes_3_3', '0', '1', '2',\n",
      "       '3', '4', '5', '6', '7', '8'],\n",
      "      dtype='object')\n",
      "(11661, 25)\n",
      "Index(['Url', 'ID', 'Nombre', 'Año', 'País', 'Región', 'Bodega',\n",
      "       'Tipo de vino', 'Uva', 'Precio', 'Valoración', 'Contenido de alcohol',\n",
      "       'Maridajes', 'Ligero/Poderoso', 'Seco/Dulce', 'Débil/Ácido',\n",
      "       'Taste_Notes_1_1', 'Taste_Notes_1_2', 'Taste_Notes_1_3',\n",
      "       'Taste_Notes_2_1', 'Taste_Notes_2_2', 'Taste_Notes_2_3',\n",
      "       'Taste_Notes_3_1', 'Taste_Notes_3_2', 'Taste_Notes_3_3'],\n",
      "      dtype='object')\n"
     ]
    }
   ],
   "source": [
    "#MERGED LOS 2 ARCHIVOS :\n",
    "\n",
    "blancos_final = pd.merge(final_df_blancos, ns_entire, on=\"ID\", how=\"left\")\n",
    "\n",
    "# Rellenar los valores NaN con \"No disponible\"\n",
    "blancos_final.fillna(\"No disponible\", inplace=True)\n",
    "\n",
    "print(blancos_final.shape)\n",
    "print(blancos_final.columns)\n",
    "\n",
    "\n",
    "# Asignar los valores de las columnas 0 a 8 a las columnas correspondientes de Taste_Notes_1_1 a Taste_Notes_3_3\n",
    "blancos_final[['Taste_Notes_1_1', 'Taste_Notes_1_2', 'Taste_Notes_1_3',\n",
    "                 'Taste_Notes_2_1', 'Taste_Notes_2_2', 'Taste_Notes_2_3',\n",
    "                 'Taste_Notes_3_1', 'Taste_Notes_3_2', 'Taste_Notes_3_3']] = blancos_final[['0', '1', '2', '3', '4', '5', '6', '7', '8']].values\n",
    "\n",
    "\n",
    "\n",
    "# Eliminar las columnas '0', '1', '2', ..., '8'\n",
    "blancos_final = blancos_final.drop(columns=['0', '1', '2', '3', '4', '5', '6', '7', '8'])\n",
    "\n",
    "print(blancos_final.shape)\n",
    "print(blancos_final.columns)\n",
    "\n",
    "df_blancos_final_NSVF = r'C:\\Users\\Pauline\\Downloads\\Proyecto_grupo2_vinos\\blancos\\0_VERSION_FINAL_BLANCOS.csv'\n",
    "blancos_final.to_csv(df_blancos_final_NSVF, index=False)\n",
    "\n"
   ]
  }
 ],
 "metadata": {
  "kernelspec": {
   "display_name": "Python 3",
   "language": "python",
   "name": "python3"
  },
  "language_info": {
   "codemirror_mode": {
    "name": "ipython",
    "version": 3
   },
   "file_extension": ".py",
   "mimetype": "text/x-python",
   "name": "python",
   "nbconvert_exporter": "python",
   "pygments_lexer": "ipython3",
   "version": "3.11.9"
  }
 },
 "nbformat": 4,
 "nbformat_minor": 2
}
